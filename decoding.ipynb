{
 "cells": [
  {
   "cell_type": "code",
   "execution_count": 49,
   "metadata": {},
   "outputs": [],
   "source": [
    "import cv2\n",
    "import numpy as np\n",
    "from matplotlib import pyplot as plt\n",
    "import reedsolo as rs"
   ]
  },
  {
   "cell_type": "code",
   "execution_count": 5,
   "metadata": {},
   "outputs": [],
   "source": [
    "def find_qr_code_zone(img):\n",
    "    \n",
    "    start_row = -1\n",
    "    start_col = -1\n",
    "    end_row = -1\n",
    "    end_col = -1\n",
    "\n",
    "    for row_index, row in enumerate(img):\n",
    "        for pixel in row:\n",
    "            if pixel != 255:\n",
    "                start_row = row_index\n",
    "                break\n",
    "        if start_row != -1:\n",
    "            break\n",
    "\n",
    "    for row_index, row in enumerate(img[::-1]):\n",
    "        for pixel in row:\n",
    "            if pixel != 255:\n",
    "                end_row = img.shape[0] - row_index\n",
    "                break\n",
    "        if end_row != -1:\n",
    "            break\n",
    "\n",
    "    for col_index, col in enumerate(cv2.transpose(img)):\n",
    "        for pixel in col:\n",
    "            if pixel != 255:\n",
    "                start_col = col_index\n",
    "                break\n",
    "        if start_col != -1:\n",
    "            break\n",
    "\n",
    "    for col_index, col in enumerate(cv2.transpose(img)[::-1]):\n",
    "        for pixel in col:\n",
    "            if pixel != 255:\n",
    "                end_col = img.shape[1] - col_index\n",
    "                break\n",
    "        if end_col != -1:\n",
    "            break\n",
    "    qr_no_quiet_zone = img[start_row:end_row, start_col:end_col]\n",
    "    return qr_no_quiet_zone"
   ]
  },
  {
   "cell_type": "code",
   "execution_count": 6,
   "metadata": {},
   "outputs": [],
   "source": [
    "def find_cell_size(qr_code):\n",
    "    size = 0\n",
    "    for pixel in qr_code[0]:\n",
    "        if (pixel != 0): break\n",
    "        size += 1\n",
    "    # Therefore the grid cell size is..\n",
    "    grid_cell_size = round(size/7)\n",
    "    return grid_cell_size"
   ]
  },
  {
   "cell_type": "code",
   "execution_count": 7,
   "metadata": {},
   "outputs": [],
   "source": [
    "def find_size_in_cells(qr_code, cell_size):\n",
    "    return round(qr_code.shape[0]/cell_size)"
   ]
  },
  {
   "cell_type": "code",
   "execution_count": 8,
   "metadata": {},
   "outputs": [],
   "source": [
    "def split_into_cells(qr_no_quiet_zone, grid_cell_size, grid_cells_num):\n",
    "\n",
    "    qr_cells = qr_no_quiet_zone.reshape((\n",
    "        grid_cells_num,\n",
    "        grid_cell_size,\n",
    "        grid_cells_num,\n",
    "        grid_cell_size,\n",
    "    )).swapaxes(1, 2)\n",
    "\n",
    "    return qr_cells"
   ]
  },
  {
   "cell_type": "code",
   "execution_count": 9,
   "metadata": {},
   "outputs": [],
   "source": [
    "def convert_to_numeric_and_inv(qr_cells, grid_cells_num):\n",
    "    \n",
    "    qr_cells_numeric = np.ndarray((grid_cells_num, grid_cells_num), dtype=np.uint8)\n",
    "    for i, row in enumerate(qr_cells):\n",
    "        for j, cell in enumerate(row):\n",
    "            qr_cells_numeric[i, j] = 1 - (np.median(cell) // 255)\n",
    "\n",
    "    return qr_cells_numeric"
   ]
  },
  {
   "cell_type": "code",
   "execution_count": 37,
   "metadata": {},
   "outputs": [],
   "source": [
    "def image_to_qr_numeric(img):\n",
    "    \n",
    "    # Find the part of the image with the qr-code\n",
    "    qr_no_quiet_zone = find_qr_code_zone(img)\n",
    "\n",
    "    # Find the size of each cell in pixels and the number of pixels\n",
    "    grid_cell_size = find_cell_size(qr_no_quiet_zone) \n",
    "    grid_cells_num = find_size_in_cells(qr_no_quiet_zone, grid_cell_size)\n",
    "\n",
    "    # Split the qr-code in-terms of cells\n",
    "    qr_cells = split_into_cells(qr_no_quiet_zone, grid_cell_size, grid_cells_num)\n",
    "\n",
    "    # Convert the qr-code into numeric data and invert the values\n",
    "    qr_cells_numeric = convert_to_numeric_and_inv(qr_cells, grid_cells_num)\n",
    "\n",
    "    return qr_cells_numeric\n"
   ]
  },
  {
   "cell_type": "code",
   "execution_count": 38,
   "metadata": {},
   "outputs": [
    {
     "name": "stdout",
     "output_type": "stream",
     "text": [
      "(21, 21)\n"
     ]
    }
   ],
   "source": [
    "# Testing #\n",
    "img_1 = cv2.imread('images/02-Matsawar-3edel-ya3am.png', cv2.IMREAD_GRAYSCALE)\n",
    "qr_cells_numeric = image_to_qr_numeric(img_1)\n",
    "print(qr_cells_numeric.shape)"
   ]
  },
  {
   "cell_type": "code",
   "execution_count": 24,
   "metadata": {},
   "outputs": [],
   "source": [
    "def find_ecl(qr_cells_numeric, from_columns = True):\n",
    "# Finds ecl, if the from_columns is true it finds it from the 9th column else use teh 9th row #\n",
    "    if from_columns:\n",
    "        row = np.flip(qr_cells_numeric[:, 8])\n",
    "    else:\n",
    "        row = qr_cells_numeric[8]\n",
    "\n",
    "    ecl = [int(c) for c in row[0:2]]\n",
    "    return ecl"
   ]
  },
  {
   "cell_type": "code",
   "execution_count": 100,
   "metadata": {},
   "outputs": [],
   "source": [
    "def find_ecl_int(ecl):\n",
    "    \n",
    "    if ecl == [1, 1]:\n",
    "        return 7\n",
    "    elif ecl == [1, 0]:\n",
    "        return 15\n",
    "    elif ecl == [0, 1]:\n",
    "        return 25\n",
    "    elif ecl == [0,0]:\n",
    "        return 30\n",
    "    else:\n",
    "        return -1\n"
   ]
  },
  {
   "cell_type": "code",
   "execution_count": 76,
   "metadata": {},
   "outputs": [],
   "source": [
    "def find_mask (qr_cells_numeric, from_columns=True):\n",
    "# Finds mask, if the from_columns is true it finds it from the 9th column else use teh 9th row #\n",
    "        if from_columns:\n",
    "            row = np.flip(qr_cells_numeric[:, 8])\n",
    "        else:\n",
    "            row = qr_cells_numeric[8]\n",
    "\n",
    "        mask = [int(c) for c in row[2:5]]\n",
    "        return mask\n",
    "\n",
    "MASKS = {\n",
    "    \"000\": lambda i, j: (i * j) % 2 + (i * j) % 3 == 0,\n",
    "    \"001\": lambda i, j: (i // 2 + j // 3) % 2 == 0,\n",
    "    \"010\": lambda i, j: ((i + j) % 2 + (i * j) % 3) % 2 == 0,\n",
    "    \"011\": lambda i, j: ((i * j) % 2 + (i * j) % 3) % 2 == 0,\n",
    "    \"100\": lambda i, j: i % 2 == 0,\n",
    "    \"101\": lambda i, j: (i + j) % 2 == 0,\n",
    "    \"110\": lambda i, j: (i + j) % 3 == 0,\n",
    "    \"111\": lambda i, j: j % 3 == 0,\n",
    "}"
   ]
  },
  {
   "cell_type": "code",
   "execution_count": 18,
   "metadata": {},
   "outputs": [],
   "source": [
    "def find_fec(qr_cells_numeric):\n",
    "    fec = []\n",
    "    fec.append(qr_cells_numeric[8, 5])\n",
    "    fec.append(qr_cells_numeric[8, 7])\n",
    "    fec.extend(qr_cells_numeric[0:6, 8])\n",
    "    fec.extend(qr_cells_numeric[7:9, 8])\n",
    "    fec = [int(c) for c in fec]\n",
    "    return fec"
   ]
  },
  {
   "cell_type": "code",
   "execution_count": 74,
   "metadata": {},
   "outputs": [],
   "source": [
    "def find_ecl_mask_fec(qr_cells_numeric):\n",
    "\n",
    "    ecl = find_ecl(qr_cells_numeric= qr_cells_numeric)\n",
    "    mask = find_mask(qr_cells_numeric= qr_cells_numeric)\n",
    "    fec = find_fec(qr_cells_numeric= qr_cells_numeric)\n",
    "\n",
    "    # ecl[0] ^= 1\n",
    "    # mask[0] ^= 1\n",
    "    # mask[2] ^= 1\n",
    "    # fec[5] ^= 1\n",
    "    # fec[8] ^= 1\n",
    "\n",
    "    return ecl, mask, fec"
   ]
  },
  {
   "cell_type": "code",
   "execution_count": 75,
   "metadata": {},
   "outputs": [
    {
     "name": "stdout",
     "output_type": "stream",
     "text": [
      "[1, 1] [0, 1, 0] [0, 1, 0, 1, 1, 0, 1, 1, 1, 0]\n"
     ]
    }
   ],
   "source": [
    "# Test #\n",
    "ecl, mask, fec = find_ecl_mask_fec(qr_cells_numeric= qr_cells_numeric)\n",
    "print(ecl, mask, fec)"
   ]
  },
  {
   "cell_type": "code",
   "execution_count": 32,
   "metadata": {},
   "outputs": [],
   "source": [
    "UP8, UP4, DOWN8, DOWN4, CW8, CCW8 = range(6)\n",
    "\n",
    "def apply_mask(data_start_i, data_start_j, data, mask, direction):\n",
    "    '''\n",
    "    data_start_i/j represent the first cell's coords in its respective direction\n",
    "    direction is the masking direction, up(-enc)/down/clockwise/anti-clockwise\n",
    "    '''\n",
    "    result = []\n",
    "    row_offsets = []\n",
    "    col_offsets = []\n",
    "    mask_str = ''.join([str(c) for c in mask])\n",
    "    if (direction in [UP8, UP4]):\n",
    "        row_offsets = [0,  0, -1, -1, -2, -2, -3, -3]\n",
    "        col_offsets = [0, -1,  0, -1,  0, -1,  0, -1]\n",
    "    if (direction in [DOWN8, DOWN4]):\n",
    "        row_offsets = [0,  0,  1,  1,  2,  2,  3,  3]\n",
    "        col_offsets = [0, -1,  0, -1,  0, -1,  0, -1]\n",
    "    if (direction == CW8):\n",
    "        row_offsets = [0,  0,  1,  1,  1,  1,  0,  0]\n",
    "        col_offsets = [0, -1,  0, -1, -2, -3, -2, -3]\n",
    "    if (direction == CCW8):\n",
    "        row_offsets = [0,  0, -1, -1, -1, -1,  0,  0]\n",
    "        col_offsets = [0, -1,  0, -1, -2, -3, -2, -3]\n",
    "    for i, j in zip(row_offsets, col_offsets):\n",
    "        cell_bit = bool(data[data_start_i+i, data_start_j+j])\n",
    "        mask_bit = MASKS[mask_str](data_start_i+i, data_start_j+j)\n",
    "        # Modules corresponding to the dark areas of the mask are inverted.\n",
    "        result.append(int(not cell_bit if mask_bit else cell_bit))\n",
    "    return result[:4] if direction in [UP4, DOWN4] else result"
   ]
  },
  {
   "cell_type": "code",
   "execution_count": 46,
   "metadata": {},
   "outputs": [],
   "source": [
    "block_starting_indices = [\n",
    "    [21-7,  21-1,  UP8],\n",
    "    [21-11, 21-1,  CCW8],\n",
    "    [21-10, 21-3,  DOWN8],\n",
    "    [21-6,  21-3,  DOWN8],\n",
    "    [21-2,  21-3,  CW8],\n",
    "    [21-3,  21-5,  UP8],\n",
    "    [21-7,  21-5,  UP8],\n",
    "    [21-11, 21-5,  CCW8],\n",
    "    [21-10, 21-7,  DOWN8],\n",
    "    [21-6,  21-7,  DOWN8],\n",
    "    [21-2,  21-7,  CW8],\n",
    "    [21-3,  21-9,  UP8],\n",
    "    [21-7,  21-9,  UP8],\n",
    "    [21-11, 21-9,  UP8],\n",
    "    [21-16, 21-9,  UP8],\n",
    "    [21-20, 21-9,  CCW8],\n",
    "    [21-19, 21-11, DOWN8],\n",
    "    [21-14, 21-11, DOWN4],  # Special 4-byte block, reserved for END (if exists!)\n",
    "    [21-12, 21-11, DOWN8],\n",
    "    [21-8,  21-11, DOWN8],\n",
    "    [21-4,  21-11, DOWN8],\n",
    "    [21-9,  21-13, UP8],\n",
    "    [21-12, 21-16, DOWN8],\n",
    "    [21-9,  21-18, UP8],\n",
    "    [21-12, 21-20, DOWN8],\n",
    "]"
   ]
  },
  {
   "cell_type": "code",
   "execution_count": 107,
   "metadata": {},
   "outputs": [],
   "source": [
    "def decode_image(image):\n",
    "\n",
    "    \n",
    "    # Find numeric qr-code\n",
    "    qr_cells_numeric = image_to_qr_numeric(image)\n",
    "    \n",
    "    grid_cell_num = qr_cells_numeric.shape[0]\n",
    "\n",
    "    # Find mask \n",
    "    ecl, mask, fec = find_ecl_mask_fec(qr_cells_numeric= qr_cells_numeric)\n",
    "    \n",
    "    # Find enc_bits and len_bits and len_int\n",
    "    enc_bits = apply_mask(grid_cell_num-1, grid_cell_num-1,qr_cells_numeric , mask, UP4)\n",
    "    len_bits = apply_mask(grid_cell_num-3, grid_cell_num-1, qr_cells_numeric , mask, UP8)\n",
    "    len_int = int(''.join([str(bit) for bit in len_bits]), 2)\n",
    "\n",
    "    message_bits = []\n",
    "    message_bits.extend(enc_bits)\n",
    "    message_bits.extend(len_bits)\n",
    "\n",
    "\n",
    "#####################################################################################################################\n",
    "    \n",
    "    # First, let's read the data bytes, starting from the very first byte after enc and len\n",
    "    byte_index = 0\n",
    "    for _ in range(25):\n",
    "        \n",
    "        start_i, start_j, dir = block_starting_indices[byte_index]\n",
    "        bits = apply_mask(start_i, start_j, qr_cells_numeric, mask, dir)\n",
    "        message_bits.extend(bits)\n",
    "        bit_string = ''.join([str(bit) for bit in bits])\n",
    "        # alpha_char = chr(int(bit_string, 2))\n",
    "        # print(f'{bit_string} (={int(bit_string, 2):03d}) = {alpha_char}')\n",
    "        byte_index += 1\n",
    "\n",
    "    # # After finishing all the characters, the next 4 bits are expected to be '0000'\n",
    "    # start_i, start_j, dir = block_starting_indices[byte_index]\n",
    "    # bits = apply_mask(start_i, start_j, qr_cells_numeric, mask, dir)\n",
    "    # message_bits.extend(bits)\n",
    "    # bit_string = ''.join([str(bit) for bit in bits])\n",
    "    # print(f'{bit_string} (=END) -- the NULL TERMINATOR, followed by padding and/or ECC')\n",
    "    # byte_index += 1\n",
    "\n",
    "    # # Let's see what the bytes that follow look like\n",
    "    # # There supposedly remain 25-len-1 bytes to be read\n",
    "    # for _ in range(25 - len_int - 1):\n",
    "    #     start_i, start_j, dir = block_starting_indices[byte_index]\n",
    "    #     bits = apply_mask(start_i, start_j, qr_cells_numeric, mask, dir)\n",
    "    #     message_bits.extend(bits)\n",
    "    #     bit_string = ''.join([str(bit) for bit in bits])\n",
    "    #     alpha_char = chr(int(bit_string, 2))\n",
    "    #     print(f'{bit_string} (={int(bit_string, 2):03d}) = {alpha_char}')\n",
    "    #     byte_index += 1\n",
    "#####################################################################################################################\n",
    "    # For every 8 bits in the extracted message, convert to a byte\n",
    "    message_bytes = [int(\"\".join(map(str, message_bits[i:i+8])), 2) for i in range(0, len(message_bits), 8)]\n",
    "\n",
    "    # Map ECL from bits to int\n",
    "    ecl_int = find_ecl_int(ecl)\n",
    "\n",
    "    # Create the Reed-Solomon Codec for 7 ECC symbols (again, this is L)\n",
    "    rsc = rs.RSCodec(nsym=ecl_int)\n",
    "\n",
    "    # Decode the bytes with the 7-ECC RS Codec\n",
    "    message_decoded = rsc.decode(message_bytes)\n",
    "    rsc.maxerrata(verbose=True)\n",
    "\n",
    "    data_bits = bin(int.from_bytes(message_decoded[0], byteorder='big'))[13:13+len_int*8]\n",
    "\n",
    "    # Now convert back to bytes and return it\n",
    "    data_bytes = int(data_bits, 2).to_bytes((len(data_bits)+7)//8, 'big')\n",
    "    return data_bytes.decode(encoding=\"iso-8859-1\")"
   ]
  },
  {
   "cell_type": "code",
   "execution_count": 127,
   "metadata": {},
   "outputs": [
    {
     "name": "stdout",
     "output_type": "stream",
     "text": [
      "This codec can correct up to 3 errors and 7 erasures independently\n",
      "01-Good job!\n"
     ]
    }
   ],
   "source": [
    "# Testing #\n",
    "img_1 = cv2.imread('images/01-Getting-started.png', cv2.IMREAD_GRAYSCALE)\n",
    "# plt.imshow(img_1, cmap='gray')\n",
    "msg = decode_image(img_1)\n",
    "print(msg)"
   ]
  }
 ],
 "metadata": {
  "kernelspec": {
   "display_name": "rasa_env",
   "language": "python",
   "name": "python3"
  },
  "language_info": {
   "codemirror_mode": {
    "name": "ipython",
    "version": 3
   },
   "file_extension": ".py",
   "mimetype": "text/x-python",
   "name": "python",
   "nbconvert_exporter": "python",
   "pygments_lexer": "ipython3",
   "version": "3.8.17"
  }
 },
 "nbformat": 4,
 "nbformat_minor": 2
}
